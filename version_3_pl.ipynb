{
 "cells": [
  {
   "cell_type": "code",
   "execution_count": 1,
   "id": "499f60ca",
   "metadata": {},
   "outputs": [
    {
     "name": "stdout",
     "output_type": "stream",
     "text": [
      "INFO: Pandarallel will run on 44 workers.\n",
      "INFO: Pandarallel will use standard multiprocessing data transfer (pipe) to transfer data between the main process and workers.\n",
      "\n",
      "WARNING: You are on Windows. If you detect any issue with pandarallel, be sure you checked out the Troubleshooting page:\n",
      "https://nalepae.github.io/pandarallel/troubleshooting/\n"
     ]
    }
   ],
   "source": [
    "import sys\n",
    "import random\n",
    "import numpy as np\n",
    "import pandas as pd\n",
    "import lightgbm as lgb\n",
    "import gc\n",
    "import polars as pl\n",
    "pd.set_option('display.min_rows',None)\n",
    "from tqdm import tqdm\n",
    "import datetime\n",
    "import time\n",
    "from pandarallel import pandarallel\n",
    "import random\n",
    "from tqdm import tqdm_notebook\n",
    "from sklearn.metrics import r2_score\n",
    "pandarallel.initialize()\n",
    "import warnings \n",
    "warnings.filterwarnings(\"ignore\")"
   ]
  },
  {
   "cell_type": "code",
   "execution_count": 2,
   "id": "bd86c184",
   "metadata": {},
   "outputs": [],
   "source": [
    "def sliding_window (df, end_date, day=7) :\n",
    "    start_date = end_date - datetime.timedelta(day)\n",
    "    df = df.filter(\n",
    "        pl.col(\"date\").is_between(start_date, end_date),\n",
    "    )\n",
    "    return df"
   ]
  },
  {
   "cell_type": "code",
   "execution_count": 3,
   "id": "2738eba9",
   "metadata": {},
   "outputs": [],
   "source": [
    "def reduce_mem_usage(df):\n",
    "    \"\"\" iterate through all the columns of a dataframe and modify the data type\n",
    "        to reduce memory usage.        \n",
    "    \"\"\"\n",
    "    start_mem = df.memory_usage().sum() / 1024**2\n",
    "    print('Memory usage of dataframe is {:.2f} MB'.format(start_mem))\n",
    "    \n",
    "    for col in df.columns:\n",
    "        col_type = df[col].dtype\n",
    "        \n",
    "        if col_type != object:\n",
    "            c_min = df[col].min()\n",
    "            c_max = df[col].max()\n",
    "            if str(col_type)[:3] == 'int':\n",
    "                if c_min > np.iinfo(np.int8).min and c_max < np.iinfo(np.int8).max:\n",
    "                    df[col] = df[col].astype(np.int8)\n",
    "                elif c_min > np.iinfo(np.int16).min and c_max < np.iinfo(np.int16).max:\n",
    "                    df[col] = df[col].astype(np.int16)\n",
    "                elif c_min > np.iinfo(np.int32).min and c_max < np.iinfo(np.int32).max:\n",
    "                    df[col] = df[col].astype(np.int32)\n",
    "                elif c_min > np.iinfo(np.int64).min and c_max < np.iinfo(np.int64).max:\n",
    "                    df[col] = df[col].astype(np.int64)  \n",
    "            else:\n",
    "                if c_min > np.finfo(np.float16).min and c_max < np.finfo(np.float16).max:\n",
    "                    df[col] = df[col].astype(np.float16)\n",
    "                elif c_min > np.finfo(np.float32).min and c_max < np.finfo(np.float32).max:\n",
    "                    df[col] = df[col].astype(np.float32)\n",
    "                else:\n",
    "                    df[col] = df[col].astype(np.float64)\n",
    "        else:\n",
    "            df[col] = df[col].astype('category')\n",
    "\n",
    "    end_mem = df.memory_usage().sum() / 1024**2\n",
    "    print('Memory usage after optimization is: {:.2f} MB'.format(end_mem))\n",
    "    print('Decreased by {:.1f}%'.format(100 * (start_mem - end_mem) / start_mem))\n",
    "    \n",
    "    return df"
   ]
  },
  {
   "cell_type": "code",
   "execution_count": 4,
   "id": "a234cfbd",
   "metadata": {},
   "outputs": [],
   "source": [
    "def get_label (df_behaviors, end_date, day=7) :\n",
    "    user_behaviors_label_windows = sliding_window(df_behaviors, \n",
    "                                                   end_date, \n",
    "                                                   day=7)\n",
    "    user_history_hebaviors = sliding_window(df_behaviors, \n",
    "                                             end_date - datetime.timedelta(day), \n",
    "                                             day=777)\n",
    "    out = user_behaviors_label_windows.groupby(\"did\").agg(\n",
    "        [\n",
    "            pl.col(\"date_day\").n_unique().alias('active_days'),  \n",
    "            pl.col(\"vid\").count().alias('watch_nums'), \n",
    "            pl.col(\"vts\").sum().alias('watch_durations'), \n",
    "        ]\n",
    "    )\n",
    "    return out,user_history_hebaviors"
   ]
  },
  {
   "cell_type": "code",
   "execution_count": 5,
   "id": "0df47774",
   "metadata": {},
   "outputs": [
    {
     "name": "stdout",
     "output_type": "stream",
     "text": [
      "CPU times: total: 3.75 s\n",
      "Wall time: 206 ms\n"
     ]
    }
   ],
   "source": [
    "%%time\n",
    "vid_info = pl.read_csv('../data/vid_info.csv')\n",
    "# vid_info = vid_info.lazy()"
   ]
  },
  {
   "cell_type": "code",
   "execution_count": 6,
   "id": "6f604378",
   "metadata": {},
   "outputs": [
    {
     "name": "stdout",
     "output_type": "stream",
     "text": [
      "CPU times: total: 3min 3s\n",
      "Wall time: 15.2 s\n"
     ]
    }
   ],
   "source": [
    "%%time\n",
    "user_behaviors = pl.read_csv('../data/user_behaviors.csv')\n",
    "# user_behaviors = user_behaviors.lazy()"
   ]
  },
  {
   "cell_type": "code",
   "execution_count": 7,
   "id": "1f11348c",
   "metadata": {},
   "outputs": [
    {
     "name": "stdout",
     "output_type": "stream",
     "text": [
      "CPU times: total: 891 ms\n",
      "Wall time: 878 ms\n"
     ]
    }
   ],
   "source": [
    "%%time\n",
    "user_behaviors = user_behaviors.with_columns(\n",
    "    [\n",
    "        pl.col(\"timestamp\")*1000\n",
    "    ]\n",
    ")"
   ]
  },
  {
   "cell_type": "code",
   "execution_count": 8,
   "id": "14e6dc58",
   "metadata": {},
   "outputs": [
    {
     "name": "stdout",
     "output_type": "stream",
     "text": [
      "CPU times: total: 1.2 s\n",
      "Wall time: 1.19 s\n"
     ]
    }
   ],
   "source": [
    "%%time\n",
    "user_behaviors = user_behaviors.with_columns(\n",
    "    [\n",
    "        pl.col(\"timestamp\").cast(pl.Datetime(time_unit=\"ms\")).alias(\"date\")\n",
    "    ]\n",
    ")"
   ]
  },
  {
   "cell_type": "code",
   "execution_count": 9,
   "id": "93ab5c3d",
   "metadata": {},
   "outputs": [
    {
     "name": "stdout",
     "output_type": "stream",
     "text": [
      "CPU times: total: 20.1 s\n",
      "Wall time: 20.1 s\n"
     ]
    }
   ],
   "source": [
    "%%time\n",
    "user_behaviors = user_behaviors.with_columns(\n",
    "    [\n",
    "        pl.col(\"date\").dt.replace_time_zone(\"UTC\")\n",
    "    ]\n",
    ")"
   ]
  },
  {
   "cell_type": "code",
   "execution_count": 10,
   "id": "3ece0bb4",
   "metadata": {},
   "outputs": [
    {
     "name": "stdout",
     "output_type": "stream",
     "text": [
      "CPU times: total: 0 ns\n",
      "Wall time: 999 µs\n"
     ]
    }
   ],
   "source": [
    "%%time\n",
    "user_behaviors = user_behaviors.with_columns(\n",
    "    [\n",
    "        pl.col(\"date\").dt.convert_time_zone(\"Asia/Shanghai\")\n",
    "    ]\n",
    ")"
   ]
  },
  {
   "cell_type": "code",
   "execution_count": 11,
   "id": "e4de3295",
   "metadata": {},
   "outputs": [
    {
     "name": "stdout",
     "output_type": "stream",
     "text": [
      "CPU times: total: 1min 1s\n",
      "Wall time: 24.6 s\n"
     ]
    }
   ],
   "source": [
    "%%time\n",
    "user_behaviors = user_behaviors.with_columns(\n",
    "    [\n",
    "        pl.col(\"date\").dt.date().alias('date_day'),\n",
    "        pl.col(\"date\").dt.hour().alias('date_hour'),\n",
    "        pl.col(\"date\").dt.weekday().alias('date_weekday'),\n",
    "        pl.col(\"date\").dt.minute().alias('date_minute') % 10,\n",
    "    ]\n",
    ")"
   ]
  },
  {
   "cell_type": "code",
   "execution_count": 12,
   "id": "b2051bea",
   "metadata": {},
   "outputs": [
    {
     "name": "stdout",
     "output_type": "stream",
     "text": [
      "CPU times: total: 35 s\n",
      "Wall time: 3.78 s\n"
     ]
    }
   ],
   "source": [
    "%%time\n",
    "user_behaviors = user_behaviors.join(vid_info[['vid','cid']],on='vid',how='left')"
   ]
  },
  {
   "cell_type": "code",
   "execution_count": 13,
   "id": "57523003",
   "metadata": {},
   "outputs": [],
   "source": [
    "user_behaviors = user_behaviors.drop(\"cid\")"
   ]
  },
  {
   "cell_type": "code",
   "execution_count": 14,
   "id": "4686c611",
   "metadata": {},
   "outputs": [],
   "source": [
    "# vid 视频id\n",
    "# cid 合集id\n",
    "# Is_intact 视频类型 1正片,2短片,3预告片,4花絮,5番外,6前序,7彩蛋,8,分支剧情,9摘要\n",
    "# online_time 上线时间\n",
    "# serialno 集号\n",
    "# series_id 系列id\n",
    "# duration 视频时长\n",
    "# stars 明星\n",
    "# tags 标签\n",
    "# img_url 视频封面图片地址\n",
    "# classify_id 频道id"
   ]
  },
  {
   "cell_type": "code",
   "execution_count": 15,
   "id": "85714edd",
   "metadata": {},
   "outputs": [
    {
     "name": "stdout",
     "output_type": "stream",
     "text": [
      "CPU times: total: 59.5 s\n",
      "Wall time: 13.8 s\n"
     ]
    }
   ],
   "source": [
    "%%time\n",
    "# 训练数据信息1\n",
    "df_train_label_1, user_train_history_behaviors_1 = get_label(user_behaviors, user_behaviors['date'].max()-datetime.timedelta(7*1), day=7)"
   ]
  },
  {
   "cell_type": "code",
   "execution_count": 16,
   "id": "df28350f",
   "metadata": {},
   "outputs": [
    {
     "name": "stdout",
     "output_type": "stream",
     "text": [
      "CPU times: total: 58.3 s\n",
      "Wall time: 18.7 s\n"
     ]
    }
   ],
   "source": [
    "%%time\n",
    "#生成验证集label\n",
    "df_valid_label, user_valid_history_behaviors = get_label(user_behaviors, user_behaviors['date'].max(), day=7)"
   ]
  },
  {
   "cell_type": "code",
   "execution_count": 17,
   "id": "f744a4c1",
   "metadata": {},
   "outputs": [],
   "source": [
    "def make_number_feats (df, vid_info, days) :\n",
    "    end_date = df['date'].max()\n",
    "    # 截取需要的时间范围    \n",
    "    df_temp = sliding_window(df, end_date, days)\n",
    "    \n",
    "    print(df_temp['date'].max(),df_temp['date'].min())\n",
    "    \n",
    "    df_temp = df_temp.join(vid_info, on=[\"vid\"], how=\"left\")\n",
    "    \n",
    "    df_feats = df_temp.groupby(\"did\").agg(\n",
    "    [\n",
    "        ((pl.col(\"timestamp\").max() - pl.col(\"timestamp\").min())/3600).alias('timestamp_ptp_{}'.format(days)),\n",
    "        \n",
    "        pl.col(\"date_day\").n_unique().alias('did_date_{}_nunique'.format(days)), \n",
    "        \n",
    "        pl.col(\"cid\").n_unique().alias('did_cid_{}_nunique'.format(days)), \n",
    "        \n",
    "        pl.col(\"classify_id\").n_unique().alias('did_classify_id_{}_nunique'.format(days)), \n",
    "        \n",
    "        pl.col(\"vid\").count().alias('did_vid_{}_count'.format(days)), \n",
    "        pl.col(\"vid\").n_unique().alias('did_vid_{}_nunique'.format(days)),  \n",
    "        \n",
    "        (pl.col(\"vid\").n_unique() / pl.col(\"vid\").count()).alias('did_vid_{}_nunique_count'.format(days)), \n",
    "    ]\n",
    "    )\n",
    "    \n",
    "    a = df_temp.groupby([\"did\",\"cid\"]).agg(\n",
    "    \n",
    "        pl.col(\"vid\").count().alias('cid_{}'.format(days)),\n",
    "    \n",
    "    )\n",
    "\n",
    "    a = a.groupby(\"did\", maintain_order=True).agg(pl.col(\"cid\").take(0).alias('cid_like_{}'.format(days)))\n",
    "    df_feats = df_feats.join(a, on=[\"did\"], how=\"left\")\n",
    "    del a\n",
    "                                                  \n",
    "    a = df_temp.groupby([\"did\",\"classify_id\"]).agg(\n",
    "    \n",
    "        pl.col(\"vid\").count().alias('classify_id_{}'.format(days))\n",
    "    \n",
    "    )\n",
    "    a = a.groupby(\"did\", maintain_order=True).agg(pl.col(\"classify_id\").take(0).alias('classify_id_like_{}'.format(days)))\n",
    "    df_feats = df_feats.join(a, on=[\"did\"], how=\"left\")\n",
    "    del a\n",
    "    \n",
    "    a = df_temp.groupby([\"vid\"]).agg(\n",
    "    [\n",
    "        pl.col(\"vid\").count().alias('g_vid_{}'.format(days)), \n",
    "    ]\n",
    "    )\n",
    "    df_temp = df_temp.join(a, on=[\"vid\"], how=\"left\")\n",
    "    del a\n",
    "                                                  \n",
    "    for key in [\n",
    "        'vts',\n",
    "        'g_vid_{}'.format(days)\n",
    "               ]:\n",
    "        a = df_temp.groupby(\"did\").agg(\n",
    "            [\n",
    "                pl.col(\"{}\".format(key)).mean().alias('did_{}_{}_mean'.format(key,days)), \n",
    "                pl.col(\"{}\".format(key)).std().alias('did_{}_{}_std'.format(key,days)), \n",
    "                pl.col(\"{}\".format(key)).min().alias('did_{}_{}_min'.format(key,days)), \n",
    "                pl.col(\"{}\".format(key)).max().alias('did_{}_{}_max'.format(key,days)), \n",
    "                pl.col(\"{}\".format(key)).sum().alias('did_{}_{}_sum'.format(key,days)), \n",
    "            ])\n",
    "        df_feats = df_feats.join(a, on=[\"did\"], how=\"left\")\n",
    "    return df_feats"
   ]
  },
  {
   "cell_type": "code",
   "execution_count": 18,
   "id": "7ffd9559",
   "metadata": {},
   "outputs": [],
   "source": [
    "# %%time 测试代码\n",
    "# a = make_number_feats (user_train_history_behaviors_1, vid_info, 1)"
   ]
  },
  {
   "cell_type": "code",
   "execution_count": 19,
   "id": "afbfae14",
   "metadata": {},
   "outputs": [],
   "source": [
    "def create_sample (user_history_behaviors, df_label) :\n",
    "    #训练集特征窗口\n",
    "    for days in [1,3,5,7,14,28]:\n",
    "        print(days)\n",
    "        df_feats = make_number_feats (user_history_behaviors, vid_info, days=days)\n",
    "        df_label = df_label.join(df_feats, on='did', how='left') \n",
    "        del df_feats\n",
    "    return df_label"
   ]
  },
  {
   "cell_type": "code",
   "execution_count": 20,
   "id": "dfae3f9a",
   "metadata": {},
   "outputs": [
    {
     "name": "stdout",
     "output_type": "stream",
     "text": [
      "1\n",
      "2023-01-25 23:57:52+08:00 2023-01-24 23:57:52+08:00\n",
      "3\n",
      "2023-01-25 23:57:52+08:00 2023-01-22 23:57:52+08:00\n",
      "5\n",
      "2023-01-25 23:57:52+08:00 2023-01-20 23:57:52+08:00\n",
      "7\n",
      "2023-01-25 23:57:52+08:00 2023-01-18 23:57:52+08:00\n",
      "14\n",
      "2023-01-25 23:57:52+08:00 2023-01-11 23:57:52+08:00\n",
      "28\n",
      "2023-01-25 23:57:52+08:00 2022-12-28 23:57:52+08:00\n",
      "CPU times: total: 27min 15s\n",
      "Wall time: 2min 9s\n"
     ]
    }
   ],
   "source": [
    "%%time\n",
    "df_train_data_1 = create_sample (user_train_history_behaviors_1, df_train_label_1)"
   ]
  },
  {
   "cell_type": "code",
   "execution_count": 21,
   "id": "925af99e",
   "metadata": {},
   "outputs": [
    {
     "name": "stdout",
     "output_type": "stream",
     "text": [
      "CPU times: total: 2min 9s\n",
      "Wall time: 6.03 s\n"
     ]
    }
   ],
   "source": [
    "%%time\n",
    "# 获取用户全局信息\n",
    "m_timestamp = user_train_history_behaviors_1['timestamp'].max()\n",
    "global_df =  user_train_history_behaviors_1.groupby(\"did\").agg(\n",
    "    [\n",
    "    ((m_timestamp - pl.col(\"timestamp\").min())/3600).alias('activa_time'), \n",
    "    ]\n",
    ")    \n",
    "df_train_data_1 = df_train_data_1.join(global_df,on=['did'],how='left')"
   ]
  },
  {
   "cell_type": "code",
   "execution_count": 22,
   "id": "f56b3cfd",
   "metadata": {},
   "outputs": [
    {
     "data": {
      "text/html": [
       "<div><style>\n",
       ".dataframe > thead > tr > th,\n",
       ".dataframe > tbody > tr > td {\n",
       "  text-align: right;\n",
       "}\n",
       "</style>\n",
       "<small>shape: (5, 119)</small><table border=\"1\" class=\"dataframe\"><thead><tr><th>did</th><th>active_days</th><th>watch_nums</th><th>watch_durations</th><th>timestamp_ptp_1</th><th>did_date_1_nunique</th><th>did_cid_1_nunique</th><th>did_classify_id_1_nunique</th><th>did_vid_1_count</th><th>did_vid_1_nunique</th><th>did_vid_1_nunique_count</th><th>cid_like_1</th><th>classify_id_like_1</th><th>did_vts_1_mean</th><th>did_vts_1_std</th><th>did_vts_1_min</th><th>did_vts_1_max</th><th>did_vts_1_sum</th><th>did_g_vid_1_1_mean</th><th>did_g_vid_1_1_std</th><th>did_g_vid_1_1_min</th><th>did_g_vid_1_1_max</th><th>did_g_vid_1_1_sum</th><th>timestamp_ptp_3</th><th>did_date_3_nunique</th><th>did_cid_3_nunique</th><th>did_classify_id_3_nunique</th><th>did_vid_3_count</th><th>did_vid_3_nunique</th><th>did_vid_3_nunique_count</th><th>cid_like_3</th><th>classify_id_like_3</th><th>did_vts_3_mean</th><th>did_vts_3_std</th><th>did_vts_3_min</th><th>did_vts_3_max</th><th>did_vts_3_sum</th><th>&hellip;</th><th>did_cid_14_nunique</th><th>did_classify_id_14_nunique</th><th>did_vid_14_count</th><th>did_vid_14_nunique</th><th>did_vid_14_nunique_count</th><th>cid_like_14</th><th>classify_id_like_14</th><th>did_vts_14_mean</th><th>did_vts_14_std</th><th>did_vts_14_min</th><th>did_vts_14_max</th><th>did_vts_14_sum</th><th>did_g_vid_14_14_mean</th><th>did_g_vid_14_14_std</th><th>did_g_vid_14_14_min</th><th>did_g_vid_14_14_max</th><th>did_g_vid_14_14_sum</th><th>timestamp_ptp_28</th><th>did_date_28_nunique</th><th>did_cid_28_nunique</th><th>did_classify_id_28_nunique</th><th>did_vid_28_count</th><th>did_vid_28_nunique</th><th>did_vid_28_nunique_count</th><th>cid_like_28</th><th>classify_id_like_28</th><th>did_vts_28_mean</th><th>did_vts_28_std</th><th>did_vts_28_min</th><th>did_vts_28_max</th><th>did_vts_28_sum</th><th>did_g_vid_28_28_mean</th><th>did_g_vid_28_28_std</th><th>did_g_vid_28_28_min</th><th>did_g_vid_28_28_max</th><th>did_g_vid_28_28_sum</th><th>activa_time</th></tr><tr><td>str</td><td>u32</td><td>u32</td><td>f64</td><td>f64</td><td>u32</td><td>u32</td><td>u32</td><td>u32</td><td>u32</td><td>f64</td><td>i64</td><td>i64</td><td>f64</td><td>f64</td><td>f64</td><td>f64</td><td>f64</td><td>f64</td><td>f64</td><td>u32</td><td>u32</td><td>u32</td><td>f64</td><td>u32</td><td>u32</td><td>u32</td><td>u32</td><td>u32</td><td>f64</td><td>i64</td><td>i64</td><td>f64</td><td>f64</td><td>f64</td><td>f64</td><td>f64</td><td>&hellip;</td><td>u32</td><td>u32</td><td>u32</td><td>u32</td><td>f64</td><td>i64</td><td>i64</td><td>f64</td><td>f64</td><td>f64</td><td>f64</td><td>f64</td><td>f64</td><td>f64</td><td>u32</td><td>u32</td><td>u32</td><td>f64</td><td>u32</td><td>u32</td><td>u32</td><td>u32</td><td>u32</td><td>f64</td><td>i64</td><td>i64</td><td>f64</td><td>f64</td><td>f64</td><td>f64</td><td>f64</td><td>f64</td><td>f64</td><td>u32</td><td>u32</td><td>u32</td><td>f64</td></tr></thead><tbody><tr><td>&quot;0fe03beb66df23…</td><td>2</td><td>4</td><td>53.0</td><td>0.0</td><td>1</td><td>1</td><td>1</td><td>1</td><td>1</td><td>1.0</td><td>12678</td><td>4</td><td>900.0</td><td>0.0</td><td>900.0</td><td>900.0</td><td>900.0</td><td>53427.0</td><td>0.0</td><td>53427</td><td>53427</td><td>53427</td><td>11342.222222</td><td>2</td><td>1</td><td>1</td><td>5</td><td>4</td><td>0.8</td><td>12678</td><td>4</td><td>2099.0</td><td>1541.720468</td><td>12.0</td><td>3412.0</td><td>10495.0</td><td>&hellip;</td><td>1</td><td>1</td><td>10</td><td>7</td><td>0.7</td><td>12678</td><td>4</td><td>1055.0</td><td>1505.803588</td><td>9.0</td><td>3412.0</td><td>10550.0</td><td>498674.1</td><td>119569.139268</td><td>282756</td><td>648408</td><td>4986741</td><td>639182.222222</td><td>11</td><td>2</td><td>1</td><td>16</td><td>13</td><td>0.8125</td><td>12678</td><td>4</td><td>696.1875</td><td>1264.577042</td><td>7.0</td><td>3412.0</td><td>11139.0</td><td>535132.5625</td><td>133377.099317</td><td>282756</td><td>720531</td><td>8562121</td><td>1.2546e6</td></tr><tr><td>&quot;4d18c63083ded8…</td><td>3</td><td>20</td><td>10449.0</td><td>8568.888889</td><td>1</td><td>6</td><td>2</td><td>16</td><td>16</td><td>1.0</td><td>7534</td><td>4</td><td>715.375</td><td>743.961457</td><td>1.0</td><td>1859.0</td><td>11446.0</td><td>2350.4375</td><td>912.747937</td><td>4</td><td>3319</td><td>37607</td><td>8568.888889</td><td>1</td><td>6</td><td>2</td><td>16</td><td>16</td><td>1.0</td><td>12942</td><td>6</td><td>715.375</td><td>743.961457</td><td>1.0</td><td>1859.0</td><td>11446.0</td><td>&hellip;</td><td>8</td><td>3</td><td>26</td><td>26</td><td>1.0</td><td>9477</td><td>12</td><td>485.307692</td><td>652.384903</td><td>1.0</td><td>1859.0</td><td>12618.0</td><td>10108.653846</td><td>9304.970542</td><td>11</td><td>25778</td><td>262825</td><td>648675.555556</td><td>9</td><td>15</td><td>4</td><td>37</td><td>37</td><td>1.0</td><td>10190</td><td>12</td><td>616.108108</td><td>1217.206656</td><td>1.0</td><td>6776.0</td><td>22796.0</td><td>35184.513514</td><td>58508.997114</td><td>4</td><td>258880</td><td>1301827</td><td>1.6408e6</td></tr><tr><td>&quot;a34e146e6dadc6…</td><td>1</td><td>1</td><td>6.0</td><td>null</td><td>null</td><td>null</td><td>null</td><td>null</td><td>null</td><td>null</td><td>null</td><td>null</td><td>null</td><td>null</td><td>null</td><td>null</td><td>null</td><td>null</td><td>null</td><td>null</td><td>null</td><td>null</td><td>null</td><td>null</td><td>null</td><td>null</td><td>null</td><td>null</td><td>null</td><td>null</td><td>null</td><td>null</td><td>null</td><td>null</td><td>null</td><td>null</td><td>&hellip;</td><td>6</td><td>1</td><td>13</td><td>13</td><td>1.0</td><td>5564</td><td>4</td><td>50.0</td><td>30.948883</td><td>4.0</td><td>106.0</td><td>650.0</td><td>149990.461538</td><td>235045.184612</td><td>577</td><td>648408</td><td>1949876</td><td>455111.111111</td><td>13</td><td>9</td><td>1</td><td>31</td><td>31</td><td>1.0</td><td>5877</td><td>4</td><td>949.580645</td><td>1435.32746</td><td>4.0</td><td>4900.0</td><td>29437.0</td><td>191217.967742</td><td>270069.524946</td><td>287</td><td>720531</td><td>5927757</td><td>1.2749e6</td></tr><tr><td>&quot;c5789a35335bfb…</td><td>7</td><td>22</td><td>22493.0</td><td>0.0</td><td>1</td><td>1</td><td>1</td><td>1</td><td>1</td><td>1.0</td><td>2152</td><td>4</td><td>1260.0</td><td>0.0</td><td>1260.0</td><td>1260.0</td><td>1260.0</td><td>762.0</td><td>0.0</td><td>762</td><td>762</td><td>762</td><td>40960.0</td><td>3</td><td>1</td><td>1</td><td>7</td><td>5</td><td>0.714286</td><td>2152</td><td>4</td><td>1515.571429</td><td>1135.17603</td><td>4.0</td><td>3088.0</td><td>10609.0</td><td>&hellip;</td><td>4</td><td>2</td><td>38</td><td>36</td><td>0.947368</td><td>12367</td><td>3</td><td>1860.289474</td><td>1387.996279</td><td>2.0</td><td>4440.0</td><td>70691.0</td><td>11747.421053</td><td>22539.644446</td><td>352</td><td>114878</td><td>446402</td><td>648000.0</td><td>26</td><td>11</td><td>2</td><td>68</td><td>66</td><td>0.970588</td><td>5877</td><td>3</td><td>1719.132353</td><td>1423.886817</td><td>2.0</td><td>5617.0</td><td>116901.0</td><td>50710.470588</td><td>153897.812958</td><td>267</td><td>720531</td><td>3448312</td><td>1.6445e6</td></tr><tr><td>&quot;7b6aa195c0e757…</td><td>3</td><td>9</td><td>5099.0</td><td>0.0</td><td>1</td><td>1</td><td>1</td><td>1</td><td>1</td><td>1.0</td><td>9515</td><td>4</td><td>657.0</td><td>0.0</td><td>657.0</td><td>657.0</td><td>657.0</td><td>38715.0</td><td>0.0</td><td>38715</td><td>38715</td><td>38715</td><td>0.0</td><td>1</td><td>1</td><td>1</td><td>1</td><td>1</td><td>1.0</td><td>9515</td><td>4</td><td>657.0</td><td>0.0</td><td>657.0</td><td>657.0</td><td>657.0</td><td>&hellip;</td><td>1</td><td>1</td><td>2</td><td>2</td><td>1.0</td><td>9515</td><td>4</td><td>956.0</td><td>422.849855</td><td>657.0</td><td>1255.0</td><td>1912.0</td><td>200580.0</td><td>170415.562693</td><td>80078</td><td>321082</td><td>401160</td><td>299271.111111</td><td>2</td><td>1</td><td>1</td><td>2</td><td>2</td><td>1.0</td><td>9515</td><td>4</td><td>956.0</td><td>422.849855</td><td>657.0</td><td>1255.0</td><td>1912.0</td><td>322089.0</td><td>1424.113057</td><td>321082</td><td>323096</td><td>644178</td><td>1.1251e6</td></tr></tbody></table></div>"
      ],
      "text/plain": [
       "shape: (5, 119)\n",
       "┌───────────────┬─────────────┬────────────┬────────────┬───┬──────────────┬──────────────┬──────────────┬─────────────┐\n",
       "│ did           ┆ active_days ┆ watch_nums ┆ watch_dura ┆ … ┆ did_g_vid_28 ┆ did_g_vid_28 ┆ did_g_vid_28 ┆ activa_time │\n",
       "│ ---           ┆ ---         ┆ ---        ┆ tions      ┆   ┆ _28_min      ┆ _28_max      ┆ _28_sum      ┆ ---         │\n",
       "│ str           ┆ u32         ┆ u32        ┆ ---        ┆   ┆ ---          ┆ ---          ┆ ---          ┆ f64         │\n",
       "│               ┆             ┆            ┆ f64        ┆   ┆ u32          ┆ u32          ┆ u32          ┆             │\n",
       "╞═══════════════╪═════════════╪════════════╪════════════╪═══╪══════════════╪══════════════╪══════════════╪═════════════╡\n",
       "│ 0fe03beb66df2 ┆ 2           ┆ 4          ┆ 53.0       ┆ … ┆ 282756       ┆ 720531       ┆ 8562121      ┆ 1.2546e6    │\n",
       "│ 386b6f20652b5 ┆             ┆            ┆            ┆   ┆              ┆              ┆              ┆             │\n",
       "│ 3dbcbd        ┆             ┆            ┆            ┆   ┆              ┆              ┆              ┆             │\n",
       "│ 4d18c63083ded ┆ 3           ┆ 20         ┆ 10449.0    ┆ … ┆ 4            ┆ 258880       ┆ 1301827      ┆ 1.6408e6    │\n",
       "│ 87147c6c707bf ┆             ┆            ┆            ┆   ┆              ┆              ┆              ┆             │\n",
       "│ 31f668        ┆             ┆            ┆            ┆   ┆              ┆              ┆              ┆             │\n",
       "│ a34e146e6dadc ┆ 1           ┆ 1          ┆ 6.0        ┆ … ┆ 287          ┆ 720531       ┆ 5927757      ┆ 1.2749e6    │\n",
       "│ 6da0b6c357428 ┆             ┆            ┆            ┆   ┆              ┆              ┆              ┆             │\n",
       "│ cc3ace        ┆             ┆            ┆            ┆   ┆              ┆              ┆              ┆             │\n",
       "│ c5789a35335bf ┆ 7           ┆ 22         ┆ 22493.0    ┆ … ┆ 267          ┆ 720531       ┆ 3448312      ┆ 1.6445e6    │\n",
       "│ bdc6d99cfd2d7 ┆             ┆            ┆            ┆   ┆              ┆              ┆              ┆             │\n",
       "│ b5e430        ┆             ┆            ┆            ┆   ┆              ┆              ┆              ┆             │\n",
       "│ 7b6aa195c0e75 ┆ 3           ┆ 9          ┆ 5099.0     ┆ … ┆ 321082       ┆ 323096       ┆ 644178       ┆ 1.1251e6    │\n",
       "│ 78c1bdf0ae03b ┆             ┆            ┆            ┆   ┆              ┆              ┆              ┆             │\n",
       "│ 55d482        ┆             ┆            ┆            ┆   ┆              ┆              ┆              ┆             │\n",
       "└───────────────┴─────────────┴────────────┴────────────┴───┴──────────────┴──────────────┴──────────────┴─────────────┘"
      ]
     },
     "execution_count": 22,
     "metadata": {},
     "output_type": "execute_result"
    }
   ],
   "source": [
    "df_train_data_1.head()"
   ]
  },
  {
   "cell_type": "code",
   "execution_count": 23,
   "id": "0d8a1121",
   "metadata": {},
   "outputs": [
    {
     "data": {
      "text/plain": [
       "0"
      ]
     },
     "execution_count": 23,
     "metadata": {},
     "output_type": "execute_result"
    }
   ],
   "source": [
    "del user_train_history_behaviors_1,df_train_label_1\n",
    "gc.collect()"
   ]
  },
  {
   "cell_type": "code",
   "execution_count": 24,
   "id": "3917a432",
   "metadata": {},
   "outputs": [
    {
     "name": "stdout",
     "output_type": "stream",
     "text": [
      "CPU times: total: 5.77 s\n",
      "Wall time: 1.02 s\n"
     ]
    }
   ],
   "source": [
    "%%time\n",
    "df_train_data = df_train_data_1.to_pandas()"
   ]
  },
  {
   "cell_type": "code",
   "execution_count": 25,
   "id": "5c431df0",
   "metadata": {},
   "outputs": [
    {
     "data": {
      "text/plain": [
       "0"
      ]
     },
     "execution_count": 25,
     "metadata": {},
     "output_type": "execute_result"
    }
   ],
   "source": [
    "del df_train_data_1\n",
    "gc.collect()"
   ]
  },
  {
   "cell_type": "code",
   "execution_count": 26,
   "id": "a3fe2485",
   "metadata": {},
   "outputs": [],
   "source": [
    "# %%time\n",
    "# df_train_data = reduce_mem_usage(df_train_data)"
   ]
  },
  {
   "cell_type": "code",
   "execution_count": 27,
   "id": "0914ce02",
   "metadata": {
    "scrolled": false
   },
   "outputs": [
    {
     "name": "stdout",
     "output_type": "stream",
     "text": [
      "1\n",
      "2023-02-01 23:57:52+08:00 2023-01-31 23:57:52+08:00\n",
      "3\n",
      "2023-02-01 23:57:52+08:00 2023-01-29 23:57:52+08:00\n",
      "5\n",
      "2023-02-01 23:57:52+08:00 2023-01-27 23:57:52+08:00\n",
      "7\n",
      "2023-02-01 23:57:52+08:00 2023-01-25 23:57:52+08:00\n",
      "14\n",
      "2023-02-01 23:57:52+08:00 2023-01-18 23:57:52+08:00\n",
      "28\n",
      "2023-02-01 23:57:52+08:00 2023-01-04 23:57:52+08:00\n",
      "CPU times: total: 36min 11s\n",
      "Wall time: 2min 29s\n"
     ]
    }
   ],
   "source": [
    "%%time\n",
    "#构建验证集样本\n",
    "df_valid_data = create_sample (user_valid_history_behaviors, df_valid_label)"
   ]
  },
  {
   "cell_type": "code",
   "execution_count": 28,
   "id": "ef3b1cce",
   "metadata": {},
   "outputs": [
    {
     "name": "stdout",
     "output_type": "stream",
     "text": [
      "CPU times: total: 2min 3s\n",
      "Wall time: 6.45 s\n"
     ]
    }
   ],
   "source": [
    "%%time\n",
    "# 获取用户全局信息\n",
    "m_timestamp = user_valid_history_behaviors['timestamp'].max()\n",
    "global_df =  user_valid_history_behaviors.groupby(\"did\").agg(\n",
    "    [\n",
    "    (m_timestamp - pl.col(\"timestamp\").min()/3600).alias('activa_time'), \n",
    "    ]\n",
    ")    \n",
    "df_valid_data = df_valid_data.join(global_df,on=['did'],how='left')"
   ]
  },
  {
   "cell_type": "code",
   "execution_count": 29,
   "id": "874cccf0",
   "metadata": {},
   "outputs": [
    {
     "data": {
      "text/plain": [
       "0"
      ]
     },
     "execution_count": 29,
     "metadata": {},
     "output_type": "execute_result"
    }
   ],
   "source": [
    "del user_valid_history_behaviors,df_valid_label\n",
    "gc.collect()"
   ]
  },
  {
   "cell_type": "code",
   "execution_count": 30,
   "id": "7a54ade1",
   "metadata": {},
   "outputs": [
    {
     "name": "stdout",
     "output_type": "stream",
     "text": [
      "CPU times: total: 10.3 s\n",
      "Wall time: 1.12 s\n"
     ]
    }
   ],
   "source": [
    "%%time\n",
    "df_valid_data = df_valid_data.to_pandas()"
   ]
  },
  {
   "cell_type": "code",
   "execution_count": 31,
   "id": "7d6e271c",
   "metadata": {},
   "outputs": [],
   "source": [
    "# %%time\n",
    "# df_valid_data = reduce_mem_usage(df_valid_data)"
   ]
  },
  {
   "cell_type": "code",
   "execution_count": 32,
   "id": "b8bf3226",
   "metadata": {},
   "outputs": [
    {
     "name": "stdout",
     "output_type": "stream",
     "text": [
      "1\n",
      "2023-02-08 23:57:52+08:00 2023-02-07 23:57:52+08:00\n",
      "3\n",
      "2023-02-08 23:57:52+08:00 2023-02-05 23:57:52+08:00\n",
      "5\n",
      "2023-02-08 23:57:52+08:00 2023-02-03 23:57:52+08:00\n",
      "7\n",
      "2023-02-08 23:57:52+08:00 2023-02-01 23:57:52+08:00\n",
      "14\n",
      "2023-02-08 23:57:52+08:00 2023-01-25 23:57:52+08:00\n",
      "28\n",
      "2023-02-08 23:57:52+08:00 2023-01-11 23:57:52+08:00\n",
      "CPU times: total: 39min 1s\n",
      "Wall time: 2min 49s\n"
     ]
    }
   ],
   "source": [
    "%%time\n",
    "#测试集特征\n",
    "df_test_data = create_sample (user_behaviors, user_behaviors.unique(subset=['did'], keep='first')[['did']])"
   ]
  },
  {
   "cell_type": "code",
   "execution_count": 33,
   "id": "b213ee5a",
   "metadata": {},
   "outputs": [
    {
     "name": "stdout",
     "output_type": "stream",
     "text": [
      "CPU times: total: 2min 54s\n",
      "Wall time: 8.62 s\n"
     ]
    }
   ],
   "source": [
    "%%time\n",
    "# 获取用户全局信息\n",
    "m_timestamp = user_behaviors['timestamp'].max()\n",
    "global_df =  user_behaviors.groupby(\"did\").agg(\n",
    "    [\n",
    "    (m_timestamp - pl.col(\"timestamp\").min()/3600).alias('activa_time'), \n",
    "    ]\n",
    ")    \n",
    "df_test_data = df_test_data.join(global_df,on=['did'],how='left')"
   ]
  },
  {
   "cell_type": "code",
   "execution_count": 34,
   "id": "1f2e1afd",
   "metadata": {},
   "outputs": [
    {
     "data": {
      "text/plain": [
       "0"
      ]
     },
     "execution_count": 34,
     "metadata": {},
     "output_type": "execute_result"
    }
   ],
   "source": [
    "gc.collect()"
   ]
  },
  {
   "cell_type": "code",
   "execution_count": 35,
   "id": "84ab8d0f",
   "metadata": {},
   "outputs": [
    {
     "name": "stdout",
     "output_type": "stream",
     "text": [
      "CPU times: total: 7.47 s\n",
      "Wall time: 1.41 s\n"
     ]
    }
   ],
   "source": [
    "%%time\n",
    "df_test_data = df_test_data.to_pandas()"
   ]
  },
  {
   "cell_type": "code",
   "execution_count": 36,
   "id": "533b7484",
   "metadata": {},
   "outputs": [],
   "source": [
    "# %%time\n",
    "# df_test_data = reduce_mem_usage(df_test_data)"
   ]
  },
  {
   "cell_type": "code",
   "execution_count": null,
   "id": "285e958e",
   "metadata": {},
   "outputs": [],
   "source": []
  },
  {
   "cell_type": "code",
   "execution_count": 37,
   "id": "901a9bd3",
   "metadata": {},
   "outputs": [],
   "source": [
    "def train (df_train, df_valid, label, params, features) :\n",
    "    train_label = df_train[label].values\n",
    "    train_feat = df_train[features]\n",
    "\n",
    "    valid_label = df_valid[label].values\n",
    "    valid_feat = df_valid[features]\n",
    "#     print (train_feat.columns )\n",
    "    gc.collect()\n",
    "\n",
    "    trn_data = lgb.Dataset(train_feat, label=train_label)#, categorical_feature=cat_cols)\n",
    "    val_data = lgb.Dataset(valid_feat, label=valid_label)#, categorical_feature=cat_cols)\n",
    "    clf = lgb.train(params,\n",
    "                    trn_data,\n",
    "                    #3000,\n",
    "                    valid_sets=[trn_data, val_data],\n",
    "                    verbose_eval=50,\n",
    "                    #categorical_feature=cat_cols, \n",
    "                    early_stopping_rounds=100)#, feval=custom_metric)#, feval=self_gauc)\n",
    "\n",
    "    fold_importance_df = pd.DataFrame()\n",
    "    fold_importance_df[\"Feature\"] = features\n",
    "    fold_importance_df[\"importance\"] = clf.feature_importance()\n",
    "    fold_importance_df[\"importance_gain\"] = clf.feature_importance(importance_type='gain')\n",
    "    fold_importance_df = fold_importance_df.sort_values(by='importance', ascending=False)\n",
    "    fold_importance_df.to_csv(\"{}_fold_importance_df.csv\".format(label, index=None) )\n",
    "    df_valid['{}_preds'.format(label)] = clf.predict(valid_feat, num_iteration=clf.best_iteration)\n",
    "                              \n",
    "    result = r2_score(df_valid[label], df_valid['{}_preds'.format(label)])\n",
    "    \n",
    "    return clf, result"
   ]
  },
  {
   "cell_type": "code",
   "execution_count": 38,
   "id": "3e962dce",
   "metadata": {},
   "outputs": [
    {
     "name": "stdout",
     "output_type": "stream",
     "text": [
      "['timestamp_ptp_1' 'did_date_1_nunique' 'did_cid_1_nunique'\n",
      " 'did_classify_id_1_nunique' 'did_vid_1_count' 'did_vid_1_nunique'\n",
      " 'did_vid_1_nunique_count' 'cid_like_1' 'classify_id_like_1'\n",
      " 'did_vts_1_mean' 'did_vts_1_std' 'did_vts_1_min' 'did_vts_1_max'\n",
      " 'did_vts_1_sum' 'did_g_vid_1_1_mean' 'did_g_vid_1_1_std'\n",
      " 'did_g_vid_1_1_min' 'did_g_vid_1_1_max' 'did_g_vid_1_1_sum'\n",
      " 'timestamp_ptp_3' 'did_date_3_nunique' 'did_cid_3_nunique'\n",
      " 'did_classify_id_3_nunique' 'did_vid_3_count' 'did_vid_3_nunique'\n",
      " 'did_vid_3_nunique_count' 'cid_like_3' 'classify_id_like_3'\n",
      " 'did_vts_3_mean' 'did_vts_3_std' 'did_vts_3_min' 'did_vts_3_max'\n",
      " 'did_vts_3_sum' 'did_g_vid_3_3_mean' 'did_g_vid_3_3_std'\n",
      " 'did_g_vid_3_3_min' 'did_g_vid_3_3_max' 'did_g_vid_3_3_sum'\n",
      " 'timestamp_ptp_5' 'did_date_5_nunique' 'did_cid_5_nunique'\n",
      " 'did_classify_id_5_nunique' 'did_vid_5_count' 'did_vid_5_nunique'\n",
      " 'did_vid_5_nunique_count' 'cid_like_5' 'classify_id_like_5'\n",
      " 'did_vts_5_mean' 'did_vts_5_std' 'did_vts_5_min' 'did_vts_5_max'\n",
      " 'did_vts_5_sum' 'did_g_vid_5_5_mean' 'did_g_vid_5_5_std'\n",
      " 'did_g_vid_5_5_min' 'did_g_vid_5_5_max' 'did_g_vid_5_5_sum'\n",
      " 'timestamp_ptp_7' 'did_date_7_nunique' 'did_cid_7_nunique'\n",
      " 'did_classify_id_7_nunique' 'did_vid_7_count' 'did_vid_7_nunique'\n",
      " 'did_vid_7_nunique_count' 'cid_like_7' 'classify_id_like_7'\n",
      " 'did_vts_7_mean' 'did_vts_7_std' 'did_vts_7_min' 'did_vts_7_max'\n",
      " 'did_vts_7_sum' 'did_g_vid_7_7_mean' 'did_g_vid_7_7_std'\n",
      " 'did_g_vid_7_7_min' 'did_g_vid_7_7_max' 'did_g_vid_7_7_sum'\n",
      " 'timestamp_ptp_14' 'did_date_14_nunique' 'did_cid_14_nunique'\n",
      " 'did_classify_id_14_nunique' 'did_vid_14_count' 'did_vid_14_nunique'\n",
      " 'did_vid_14_nunique_count' 'cid_like_14' 'classify_id_like_14'\n",
      " 'did_vts_14_mean' 'did_vts_14_std' 'did_vts_14_min' 'did_vts_14_max'\n",
      " 'did_vts_14_sum' 'did_g_vid_14_14_mean' 'did_g_vid_14_14_std'\n",
      " 'did_g_vid_14_14_min' 'did_g_vid_14_14_max' 'did_g_vid_14_14_sum'\n",
      " 'timestamp_ptp_28' 'did_date_28_nunique' 'did_cid_28_nunique'\n",
      " 'did_classify_id_28_nunique' 'did_vid_28_count' 'did_vid_28_nunique'\n",
      " 'did_vid_28_nunique_count' 'cid_like_28' 'classify_id_like_28'\n",
      " 'did_vts_28_mean' 'did_vts_28_std' 'did_vts_28_min' 'did_vts_28_max'\n",
      " 'did_vts_28_sum' 'did_g_vid_28_28_mean' 'did_g_vid_28_28_std'\n",
      " 'did_g_vid_28_28_min' 'did_g_vid_28_28_max' 'did_g_vid_28_28_sum'\n",
      " 'activa_time']\n",
      "115\n"
     ]
    }
   ],
   "source": [
    "useless_cols = ['did', 'active_days', 'active_days_preds', \n",
    "                'watch_nums', 'watch_nums_preds', \n",
    "                'watch_durations', 'watch_durations_preds']\n",
    "features = df_train_data.columns[~df_train_data.columns.isin(useless_cols)].values\n",
    "print (features)\n",
    "print (len(features))\n",
    "params = {\n",
    "    'objective': 'regression', #定义的目标函数\n",
    "    #'metric': {'auc', 'binary_logloss'}, rmse',\n",
    "    'metric': {'rmse'},\n",
    "    'boosting_type' : 'gbdt',\n",
    "\n",
    "    'learning_rate': 0.05,\n",
    "    'max_depth' : -1,\n",
    "    'num_leaves' : 2 ** 8,\n",
    "\n",
    "#     'feature_fraction' : 0.70,\n",
    "#     'subsample' : 0.75,\n",
    "    'seed' : 114,\n",
    "    'num_iterations' : 3000,\n",
    "    'nthread' : -1,\n",
    "    'verbose' : -1,\n",
    "    #'scale_pos_weight':200\n",
    "}"
   ]
  },
  {
   "cell_type": "code",
   "execution_count": 39,
   "id": "aa0b854d",
   "metadata": {},
   "outputs": [
    {
     "name": "stdout",
     "output_type": "stream",
     "text": [
      "Training until validation scores don't improve for 100 rounds\n",
      "[50]\ttraining's rmse: 1.54511\tvalid_1's rmse: 1.56146\n",
      "[100]\ttraining's rmse: 1.52732\tvalid_1's rmse: 1.57991\n",
      "Early stopping, best iteration is:\n",
      "[36]\ttraining's rmse: 1.56017\tvalid_1's rmse: 1.55692\n",
      "Training until validation scores don't improve for 100 rounds\n",
      "[50]\ttraining's rmse: 14.5074\tvalid_1's rmse: 14.7443\n",
      "[100]\ttraining's rmse: 14.2279\tvalid_1's rmse: 15.0113\n",
      "Early stopping, best iteration is:\n",
      "[21]\ttraining's rmse: 15.0421\tvalid_1's rmse: 14.4879\n",
      "Training until validation scores don't improve for 100 rounds\n",
      "[50]\ttraining's rmse: 13887.5\tvalid_1's rmse: 14299.6\n",
      "[100]\ttraining's rmse: 13571.1\tvalid_1's rmse: 14646.2\n",
      "Early stopping, best iteration is:\n",
      "[43]\ttraining's rmse: 13967.2\tvalid_1's rmse: 14282.5\n"
     ]
    }
   ],
   "source": [
    "#离线验证\n",
    "active_days_valid_clf, active_days_valid_result = train (df_train_data, df_valid_data, 'active_days', params, features)\n",
    "watch_nums_valid_clf, watch_nums_valid_result = train (df_train_data, df_valid_data, 'watch_nums', params, features)\n",
    "watch_durations_valid_clf, watch_durations_valid_result = train (df_train_data, df_valid_data, 'watch_durations', params, features)"
   ]
  },
  {
   "cell_type": "code",
   "execution_count": 40,
   "id": "01ab5f61",
   "metadata": {},
   "outputs": [
    {
     "data": {
      "text/plain": [
       "0.2821276082689113"
      ]
     },
     "execution_count": 40,
     "metadata": {},
     "output_type": "execute_result"
    }
   ],
   "source": [
    "active_days_valid_result * 0.5 + watch_nums_valid_result * 0.25 + watch_durations_valid_result * 0.25"
   ]
  },
  {
   "cell_type": "code",
   "execution_count": 41,
   "id": "8eb21410",
   "metadata": {},
   "outputs": [
    {
     "data": {
      "text/plain": [
       "0.3025921554594039"
      ]
     },
     "execution_count": 41,
     "metadata": {},
     "output_type": "execute_result"
    }
   ],
   "source": [
    "active_days_valid_result\n",
    "# 0.3081352281883971"
   ]
  },
  {
   "cell_type": "code",
   "execution_count": 42,
   "id": "afaae818",
   "metadata": {},
   "outputs": [
    {
     "data": {
      "text/plain": [
       "0.17068038424515808"
      ]
     },
     "execution_count": 42,
     "metadata": {},
     "output_type": "execute_result"
    }
   ],
   "source": [
    "watch_nums_valid_result\n",
    "# 0.1805256261514938"
   ]
  },
  {
   "cell_type": "code",
   "execution_count": 43,
   "id": "b3c2fa95",
   "metadata": {},
   "outputs": [
    {
     "data": {
      "text/plain": [
       "0.3526457379116794"
      ]
     },
     "execution_count": 43,
     "metadata": {},
     "output_type": "execute_result"
    }
   ],
   "source": [
    "watch_durations_valid_result\n",
    "# 0.3531987557874068"
   ]
  },
  {
   "cell_type": "code",
   "execution_count": 44,
   "id": "1c884b65",
   "metadata": {},
   "outputs": [
    {
     "name": "stdout",
     "output_type": "stream",
     "text": [
      "Training until validation scores don't improve for 100 rounds\n",
      "Did not meet early stopping. Best iteration is:\n",
      "[36]\ttraining's rmse: 1.49108\tvalid_1's rmse: 1.49108\n",
      "Training until validation scores don't improve for 100 rounds\n",
      "Did not meet early stopping. Best iteration is:\n",
      "[21]\ttraining's rmse: 14.0919\tvalid_1's rmse: 14.0919\n",
      "Training until validation scores don't improve for 100 rounds\n",
      "Did not meet early stopping. Best iteration is:\n",
      "[43]\ttraining's rmse: 13822.4\tvalid_1's rmse: 13822.4\n"
     ]
    }
   ],
   "source": [
    "#预测留存\n",
    "params['num_iterations'] = active_days_valid_clf.best_iteration\n",
    "active_days_test_clf, _ = train (df_valid_data, df_valid_data, 'active_days', params, features)\n",
    "\n",
    "params['num_iterations'] = watch_nums_valid_clf.best_iteration\n",
    "watch_nums_test_clf, _ = train (df_valid_data, df_valid_data, 'watch_nums', params, features)\n",
    "\n",
    "params['num_iterations'] = watch_durations_valid_clf.best_iteration\n",
    "watch_durations_test_clf, _ = train (df_valid_data, df_valid_data, 'watch_durations', params, features)"
   ]
  },
  {
   "cell_type": "code",
   "execution_count": 45,
   "id": "f8ddeebe",
   "metadata": {},
   "outputs": [],
   "source": [
    "#predict\n",
    "df_test_data['active_days'] = active_days_test_clf.predict(df_test_data[features], num_iteration=active_days_test_clf.best_iteration)\n",
    "df_test_data['watch_nums'] = watch_nums_test_clf.predict(df_test_data[features], num_iteration=watch_nums_test_clf.best_iteration)\n",
    "df_test_data['watch_durations'] = watch_durations_test_clf.predict(df_test_data[features], num_iteration=watch_durations_test_clf.best_iteration)\n",
    "df_test_answer = df_test_data[['did', 'active_days', 'watch_nums', 'watch_durations']]"
   ]
  },
  {
   "cell_type": "code",
   "execution_count": 46,
   "id": "f24c75cd",
   "metadata": {},
   "outputs": [],
   "source": [
    "df_test_answer.to_csv('../submit/df_test_answer_baseline_v1_001.csv', index=None)"
   ]
  },
  {
   "cell_type": "code",
   "execution_count": 47,
   "id": "6be6c1b6",
   "metadata": {},
   "outputs": [
    {
     "data": {
      "text/plain": [
       "2.1324817181968707"
      ]
     },
     "execution_count": 47,
     "metadata": {},
     "output_type": "execute_result"
    }
   ],
   "source": [
    "df_test_answer['active_days'].min()"
   ]
  },
  {
   "cell_type": "code",
   "execution_count": null,
   "id": "b2a9cbcd",
   "metadata": {},
   "outputs": [],
   "source": []
  },
  {
   "cell_type": "code",
   "execution_count": null,
   "id": "ebf4c6e9",
   "metadata": {},
   "outputs": [],
   "source": []
  }
 ],
 "metadata": {
  "kernelspec": {
   "display_name": "Python 3 (ipykernel)",
   "language": "python",
   "name": "python3"
  },
  "language_info": {
   "codemirror_mode": {
    "name": "ipython",
    "version": 3
   },
   "file_extension": ".py",
   "mimetype": "text/x-python",
   "name": "python",
   "nbconvert_exporter": "python",
   "pygments_lexer": "ipython3",
   "version": "3.10.9"
  }
 },
 "nbformat": 4,
 "nbformat_minor": 5
}
